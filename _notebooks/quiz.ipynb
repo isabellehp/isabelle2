{
 "cells": [
  {
   "cell_type": "code",
   "execution_count": null,
   "metadata": {},
   "outputs": [
    {
     "name": "stdout",
     "output_type": "stream",
     "text": [
      "Hello, isabelle running /usr/bin/python3\n",
      "You will be asked 3 questions.\n",
      "Question: Are you ready to take a test?\n",
      "yes\n",
      "Question: What command is used to include other functions that were previously developed?\n",
      "import\n",
      "importis correct!\n",
      "Question: What command is used to evaluate correct or incorrect response in this example?\n"
     ]
    }
   ],
   "source": [
    "import getpass, sys\n",
    "\n",
    "def question_with_response(prompt):\n",
    "    print(\"Question: \" + prompt)\n",
    "    msg = input()\n",
    "    return msg\n",
    "\n",
    "def is_correct(response,answer):\n",
    "    if response == answer:\n",
    "        print(response + \" is correct!\")\n",
    "    else:\n",
    "        print (response + \" is incorrect\")\n",
    "\n",
    "questions = 3\n",
    "correct = 0\n",
    "\n",
    "print('Hello, ' + getpass.getuser() + \" running \" + sys.executable)\n",
    "print(\"You will be asked \" + str(questions) + \" questions.\")\n",
    "question_with_response(\"Are you ready to take a test?\")\n",
    "\n",
    "rsp = question_with_response(\"What command is used to include other functions that were previously developed?\")\n",
    "is_correct(rsp,\"import\")\n",
    "# if rsp == \"import\":\n",
    "#     print(rsp + \" is correct!\")\n",
    "#     correct += 1\n",
    "# else:\n",
    "#     print(rsp + \" is incorrect!\")\n",
    "\n",
    "rsp = question_with_response(\"What command is used to evaluate correct or incorrect response in this example?\")\n",
    "is_correct(rsp,\"if\")\n",
    "# if rsp == \"if\":\n",
    "#     print(rsp + \" is correct!\")\n",
    "#     correct += 1\n",
    "# else:\n",
    "#     print(rsp + \" is incorrect!\")\n",
    "\n",
    "rsp = question_with_response(\"Each 'if' command contains an '_________' to determine a true or false condition?\")\n",
    "is_correct(rsp,\"expression\")\n",
    "# if rsp == \"expression\":\n",
    "#     print(rsp + \" is correct!\")\n",
    "#     correct += 1\n",
    "# else:\n",
    "#     print(rsp + \" is incorrect!\")\n",
    "\n",
    "rsp = question_with_response(\"**\")\n",
    "if rsp == \"**\":\n",
    "    print(rsp + \" is correct!\")\n",
    "    correct += 1\n",
    "else:\n",
    "    print(rsp + \" is incorrect!\")\n",
    "\n",
    "print(getpass.getuser() + \" you scored \" + str(correct) +\"/\" + str(questions))"
   ]
  },
  {
   "cell_type": "code",
   "execution_count": null,
   "metadata": {},
   "outputs": [],
   "source": []
  }
 ],
 "metadata": {
  "kernelspec": {
   "display_name": "Python 3 (ipykernel)",
   "language": "python",
   "name": "python3"
  },
  "language_info": {
   "codemirror_mode": {
    "name": "ipython",
    "version": 3
   },
   "file_extension": ".py",
   "mimetype": "text/x-python",
   "name": "python",
   "nbconvert_exporter": "python",
   "pygments_lexer": "ipython3",
   "version": "3.10.12"
  }
 },
 "nbformat": 4,
 "nbformat_minor": 2
}
