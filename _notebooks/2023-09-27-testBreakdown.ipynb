{
 "cells": [
  {
   "cell_type": "markdown",
   "metadata": {},
   "source": [
    "---\n",
    "layout: post\n",
    "title: JS Basics Test Breakdown\n",
    "description: Breakdown of my JS Basics Individual Test code\n",
    "courses: { compsci: {week: 6} }\n",
    "type: hacks\n",
    "---"
   ]
  },
  {
   "cell_type": "markdown",
   "metadata": {},
   "source": [
    "## HTML Hack\n",
    "- Structures the test\n",
    "- Includes standard elements like heading, image, and div\n",
    "- \"Submit\" button to see answers (explained in Javascript cell)\n",
    "- <div> with \"answers\" ID to display answers"
   ]
  },
  {
   "cell_type": "code",
   "execution_count": null,
   "metadata": {},
   "outputs": [],
   "source": [
    "%%html\n",
    "\n",
    "<h1 id=\"title\">Math Test</h1>\n",
    "<img alt=\"math\" src=\"https://www.bwseducationconsulting.com/wp-content/uploads/2020/08/bws-maths-tutoring.jpg\" width=\"250\" height=\"175\">\n",
    "\n",
    "<div id=\"Test\">\n",
    "    <label for=\"addition\">15 + 3 =</label>\n",
    "    <input type=\"number\" id=\"addition\" name=\"addition\">\n",
    "\n",
    "    <label for=\"subtraction\">15 - 3 =</label>\n",
    "    <input type=\"number\" id=\"subtraction\" name=\"subtraction\">\n",
    "\n",
    "    <label for=\"multiplication\">15 x 3 =</label>\n",
    "    <input type=\"number\" id=\"multiplication\" name=\"multiplication\">\n",
    "    \n",
    "    <label for=\"division\">15/3 =</label>\n",
    "    <input type=\"number\" id=\"division\" name=\"division\">\n",
    "</div>\n",
    "\n",
    "<button type=\"button\" onclick=\"submitResponse()\">Submit</button>\n",
    "\n",
    "<div id=\"answers\"></div>"
   ]
  },
  {
   "cell_type": "markdown",
   "metadata": {},
   "source": [
    "## Javascript Hack including Data Types Hack and DOM Hack\n",
    "- Javascript formats the submit button function, establishes variables, and stores data\n",
    "- Number data type:\n",
    "    - JavaScript variables num15 and num3 are declared with numeric values\n",
    "    - Arithmetic operations (+, -, *, /) are performed\n",
    "    - Once \"Submit\" button is clicked, answers will show in console\n",
    "- DOM Manipulation:\n",
    "    - When the \"Submit\" button is clicked, the submitResponse function is called\n",
    "    - Inside the function, the numeric results of the arithmetic operations are calculated and stored in variables\n",
    "    - The document.getElementById is used to access the HTML element with \"answers\" ID\n",
    "    - The innerHTML property of the \"answers\" div is updated with the calculated results\n",
    "    - Answers are inserted in the HTML as a <p> element"
   ]
  },
  {
   "cell_type": "code",
   "execution_count": null,
   "metadata": {},
   "outputs": [],
   "source": [
    "%%javascript\n",
    "\n",
    "function submitResponse(){\n",
    "    var num15 = 15\n",
    "    var num3= 3\n",
    "\n",
    "    //show answers in console when clicking submit (data types)\n",
    "        console.log(num15 + num3)\n",
    "        console.log(num15 - num3)\n",
    "        console.log(num15 * num3) \n",
    "        console.log(num15 / num3)\n",
    "\n",
    "    //Print answers when clicking submit (dom)\n",
    "        var additionAnswer = num15 + num3;\n",
    "        var subtractionAnswer = num15 - num3;\n",
    "        var multiplicationAnswer = num15 * num3;\n",
    "        var divisionAnswer = num15 / num3;\n",
    "\n",
    "        var answersDiv = document.getElementById(\"answers\");\n",
    "        answersDiv.innerHTML = `\n",
    "            <p>15 + 3 = ${additionAnswer}</p>\n",
    "            <p>15 - 3 = ${subtractionAnswer}</p>\n",
    "            <p>15 x 3 = ${multiplicationAnswer}</p>\n",
    "            <p>15 / 3 = ${divisionAnswer}</p>\n",
    "            `;   \n",
    "    }"
   ]
  }
 ],
 "metadata": {
  "kernelspec": {
   "display_name": "Python 3",
   "language": "python",
   "name": "python3"
  },
  "language_info": {
   "name": "python",
   "version": "3.10.12"
  },
  "orig_nbformat": 4
 },
 "nbformat": 4,
 "nbformat_minor": 2
}
