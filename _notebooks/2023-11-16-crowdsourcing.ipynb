{
 "cells": [
  {
   "cell_type": "markdown",
   "metadata": {},
   "source": [
    "---\n",
    "toc: true\n",
    "comments: True\n",
    "layout: post\n",
    "title: Undecidable Problems\n",
    "description: :D\n",
    "type: ccc\n",
    "courses: { compsci: {week: 15} }\n",
    "---"
   ]
  },
  {
   "cell_type": "markdown",
   "metadata": {},
   "source": [
    "### Crowdsourcing\n",
    "Crowdsourcing is the action of acquirring work and information from a large group of people via the internet. This information can be obtained from social media and other forms of media throughout the internet. Crowdsourcing allows companies to work with people throughout the world and aquire a variety of different skills. \n",
    "![crowdsourcing image](https://www.investopedia.com/thmb/-csD4ERbU65LWGDvuXuPvUV8cUY=/1500x0/filters:no_upscale():max_bytes(150000):strip_icc()/crowdsourcing.asp-final-7a1d5dcc4f3b45c38c0a5050354f66f4.png)\n",
    "\n",
    "# variations of crowdsourcing\n",
    "Idea Generation: Seeking ideas and suggestions from the crowd to solve a problem or improve a product.\n",
    "\n",
    "Microtasks: Breaking down a large task into smaller, manageable microtasks that can be distributed to a crowd.\n",
    "\n",
    "Funding: Crowdfunding platforms, where a crowd financially supports projects, products, or causes.\n",
    "\n",
    "Data Collection: Gathering and analyzing data through contributions from a large number of individuals.\n",
    "\n",
    "Open Innovation: Involving external contributors in the innovation process of a company.\n",
    "\n",
    "# benefits of crowdsourcing\n",
    "Crowdsourcing is cost efficent because it allows access to talented workers without the need for a traditional workforce. Also, projects and work can be completed in a lesser amount of time due to the many contributors. Finally, the diversity of contributors can lead to innovative ideas and solutions that may have not emerged in a traditional setting. \n",
    "\n",
    "# Example of crowdsourcing\n",
    " A well-known example of crowdsourcing is the website Wikipedia. Wikipedia is an online encyclopedia where anybody can contribute and add information onto the site. \n",
    "\n",
    "# drawbacks of crowdsourcing\n",
    "There might be complications when crowdsourcing such as difficulties in confidentiality and communication between the groups involved. There is also a slight chance of receiving low quality work if a collaborater misunderstands the project's requirements.\n",
    "## Popcorn Hack  \n",
    "How can organizations optimize crowdsoucing while minimizing the drawbacks?\n",
    "\n",
    "Have a group of people check accuracy/credibility of information spread online\n"
   ]
  },
  {
   "cell_type": "markdown",
   "metadata": {},
   "source": [
    "## Citizen Science  \n",
    "- Citizen Science is scientific research that the general population helps to conduct. Ordinary citizens, often non-scientists, help contribute data to research projects using computing devices.\n",
    "- Gives a wide range of people the ability to contribute to scientific studies which provides more diverse data.\n",
    "### Popcorn Hack  \n",
    "How do you believe participating in a citizen science project could enhance both scientific research and public engagement, and can you share any specific areas of scientific study where citizen science might make a significant impact in the future?\n",
    "\n",
    "Medicine and vaccines"
   ]
  },
  {
   "cell_type": "markdown",
   "metadata": {},
   "source": [
    "# Homework\n",
    "## Question 1  \n",
    "Explain the concept of crowdsourcing. Provide examples of how it is commonly used in different fields.\n",
    "\n",
    "Crowdsourcing: the practice of gathering work and information from a large online community, including social media and other internet sources. It enables companies to collaborate with a diverse global pool of individuals, accessing a wide range of skills.\n",
    "\n",
    "**Examples**\n",
    "- Wikipedia: anyone can contribute and post information about various topics\n",
    "- Citizen Science: experiment/research completed with participation from general public\n",
    "\n",
    "## Question 2  \n",
    "Discuss the benefits and challenges associated with crowdsourcing. How can organizations effectively harness the power of crowdsourcing while mitigating potential drawbacks?\n",
    "\n",
    "**Benefits**\n",
    "- Variety of perspectives, diversity\n",
    "- Lots of collaboration means creative and innovative solutions\n",
    "\n",
    "**Challenges**\n",
    "- Regulation of quality: some may be more knowledgable or committed than others\n",
    "- Collaboration and management of large group\n",
    "\n",
    "Organizations can effectively harness the power of crowdsourcing while mitigating potential drawbacks by setting clear community guidlines, filtering submitted content, and recognizing contributors by giving some sort of reward.\n",
    "\n",
    "## Question 3  \n",
    "Identify a real-world example of a successful crowdsourcing project. Explain the project, its goals, and the positive outcomes achieved through the collaboration of a large group of people.\n",
    "\n",
    "**Eyes of the Reef**: citizen science project located in Hawaii, anyone can become a member and report their findings to help monitor coral bleaching. They also provide educational resources to inform people about coral disease.\n",
    "\n",
    "Positive outcomes\n",
    "- Community engagement\n",
    "- Complement Professional Research\n",
    "- Time effective\n",
    "- Influence local policies for protection of coral reefs\n",
    "\n",
    "### Question 4\n",
    "Create a hypothetical scenario where crowdsourcing could be applied to solve a specific problem. Describe the problem, the type of contributions you would seek from the crowd, and the potential impact of implementing the crowdsourced solution.\n",
    "\n",
    "**Problem**: Mobility/Transportation in Urban Environments\n",
    "\n",
    "\n",
    "In a busy city with traffic congestion and transportation challenges, the local government aims to improve urban mobility. The problem involves researching innovative solutions to assist traffic, encourage sustainable transportation, and overall just improve transportaion efficiency.\n",
    "\n",
    "Contributions\n",
    "- Traffic Flow Optimization: get data scientists and urban planners to create algorithms to optimizing traffic flow, considering factors like peak hours, traffic hotspots, and alternative routes.\n",
    "- Sustainable Transportation Idea Proposals: encourage the community to provide their ideas promoting sustainable ways of transportation \n",
    "    - Ex: public transit, bike lanes, electric scooters/bikes\n",
    "\n",
    "Potential Impact\n",
    "- Diverse, Innovative Solutions: having many people provide ideas allows for a diverse set of solutions, perspectives, and level of expertise\n",
    "- Community Engagement: sense of ownership and responsibility in citizens who participate\n",
    "- Quicker planning: having a large group of people working on the project can be more time effective"
   ]
  }
 ],
 "metadata": {
  "language_info": {
   "name": "python"
  }
 },
 "nbformat": 4,
 "nbformat_minor": 2
}
