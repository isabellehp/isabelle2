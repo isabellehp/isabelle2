{
 "cells": [
  {
   "cell_type": "code",
   "execution_count": null,
   "metadata": {},
   "outputs": [],
   "source": [
    "from newspaper import Article\n",
    "import random\n",
    "from googlesearch import search\n",
    "\n",
    "url = []\n",
    "listOfGetGoodTips = []\n",
    "imVerySleepDeprived = ['That was rough, ', 'maybe you need some training, ', 'That was hard to watch, ', 'LMAO better luck next time,', 'Here are some gaming tips, ']\n",
    "\n",
    "query = \"gaming tips\"\n",
    "for j in search(query, tld=\"co.in\", num=8, stop=8, pause=2):\n",
    "    url.append(j)\n",
    "\n",
    "\n",
    "for i in url:\n",
    "    article = Article(i)\n",
    "    article.download()\n",
    "    article.parse()\n",
    "    listOfGetGoodTips.append(random.choice(imVerySleepDeprived) + article.title + ' ' + i)\n",
    "print(listOfGetGoodTips)"
   ]
  }
 ],
 "metadata": {
  "language_info": {
   "name": "python"
  },
  "orig_nbformat": 4
 },
 "nbformat": 4,
 "nbformat_minor": 2
}
