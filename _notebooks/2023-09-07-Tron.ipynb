{
 "cells": [
  {
   "cell_type": "code",
   "execution_count": null,
   "metadata": {},
   "outputs": [],
   "source": [
    "from newspaper import Article\n",
    "import random\n",
    "from googlesearch import search\n",
    "\n",
    "url = []\n",
    "ListofTips = []\n",
    "Loser = ['That was rough, ', 'You may need some help, ', 'Just get better, ', 'Better luck next time,', 'Here are some gaming tips, ']\n",
    "\n",
    "query = \"gaming tips\"\n",
    "for j in search(query, tld=\"co.in\", num=8, stop=8, pause=2):\n",
    "    url.append(j)\n",
    "\n",
    "\n",
    "for i in url:\n",
    "    article = Article(i)\n",
    "    article.download()\n",
    "    article.parse()\n",
    "    ListofTips.append(random.choice(Loser) + article.title + ' ' + i)\n",
    "print(ListofTips)"
   ]
  }
 ],
 "metadata": {
  "language_info": {
   "name": "python"
  },
  "orig_nbformat": 4
 },
 "nbformat": 4,
 "nbformat_minor": 2
}
