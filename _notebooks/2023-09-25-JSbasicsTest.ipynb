{
 "cells": [
  {
   "cell_type": "markdown",
   "metadata": {},
   "source": [
    "---\n",
    "layout: post\n",
    "title: JS Basics Individual Test\n",
    "description: An introduction to key topics in Web Programming\n",
    "courses: { compsci: {week: 6} }\n",
    "type: hacks\n",
    "comments: true\n",
    "---"
   ]
  },
  {
   "cell_type": "code",
   "execution_count": 1,
   "metadata": {},
   "outputs": [
    {
     "data": {
      "text/html": [
       "\n",
       "<h1 id=\"title\">Math Test</h1>\n",
       "<img alt=\"math\" src=\"https://www.bwseducationconsulting.com/wp-content/uploads/2020/08/bws-maths-tutoring.jpg\" width=\"250\" height=\"175\">\n",
       "\n",
       "<div id=\"Test\">\n",
       "    <label for=\"addition\">15 + 3 =</label>\n",
       "    <input type=\"number\" id=\"addition\" name=\"addition\">\n",
       "\n",
       "    <label for=\"subtraction\">15 - 3 =</label>\n",
       "    <input type=\"number\" id=\"subtracion\" name=\"subtraction\">\n",
       "\n",
       "    <label for=\"multiplication\">15 x 3 =</label>\n",
       "    <input type=\"number\" id=\"multiplication\" name=\"multiplication\">\n",
       "    \n",
       "    <label for=\"division\">15/3 =</label>\n",
       "    <input type=\"number\" id=\"division\" name=\"division\">\n",
       "</div>\n",
       "\n",
       "<button type=\"button\" onclick=\"submitResponse()\">Submit</button>\n",
       "\n",
       "<div id=\"answers\"></div>\n",
       "\n",
       "<script>\n",
       "   function submitResponse(){\n",
       "    var num15 = 15\n",
       "    var num3= 3\n",
       "\n",
       "    //show answers in console when clicking submit (data types)\n",
       "        console.log(num15 + num3)\n",
       "        console.log(num15 - num3)\n",
       "        console.log(num15 * num3) \n",
       "        console.log(num15 / num3)\n",
       "\n",
       "    //Print answers when clicking submit (dom)\n",
       "        var additionAnswer = num15 + num3;\n",
       "        var subtractionAnswer = num15 - num3;\n",
       "        var multiplicationAnswer = num15 * num3;\n",
       "        var divisionAnswer = num15 / num3;\n",
       "\n",
       "        var answersDiv = document.getElementById(\"answers\");\n",
       "        answersDiv.innerHTML = `\n",
       "            <p>15 + 3 = ${additionAnswer}</p>\n",
       "            <p>15 - 3 = ${subtractionAnswer}</p>\n",
       "            <p>15 x 3 = ${multiplicationAnswer}</p>\n",
       "            <p>15 / 3 = ${divisionAnswer}</p>\n",
       "            `;      \n",
       "    }\n",
       "</script>\n"
      ],
      "text/plain": [
       "<IPython.core.display.HTML object>"
      ]
     },
     "metadata": {},
     "output_type": "display_data"
    }
   ],
   "source": [
    "%%html\n",
    "\n",
    "<h1 id=\"title\">Math Test</h1>\n",
    "<img alt=\"math\" src=\"https://www.bwseducationconsulting.com/wp-content/uploads/2020/08/bws-maths-tutoring.jpg\" width=\"250\" height=\"175\">\n",
    "\n",
    "<div id=\"Test\">\n",
    "    <label for=\"addition\">15 + 3 =</label>\n",
    "    <input type=\"number\" id=\"addition\" name=\"addition\">\n",
    "\n",
    "    <label for=\"subtraction\">15 - 3 =</label>\n",
    "    <input type=\"number\" id=\"subtracion\" name=\"subtraction\">\n",
    "\n",
    "    <label for=\"multiplication\">15 x 3 =</label>\n",
    "    <input type=\"number\" id=\"multiplication\" name=\"multiplication\">\n",
    "    \n",
    "    <label for=\"division\">15/3 =</label>\n",
    "    <input type=\"number\" id=\"division\" name=\"division\">\n",
    "</div>\n",
    "\n",
    "<button type=\"button\" onclick=\"submitResponse()\">Submit</button>\n",
    "\n",
    "<div id=\"answers\"></div>\n",
    "\n",
    "<script>\n",
    "   function submitResponse(){\n",
    "    var num15 = 15\n",
    "    var num3= 3\n",
    "\n",
    "    //show answers in console when clicking submit (data types)\n",
    "        console.log(num15 + num3)\n",
    "        console.log(num15 - num3)\n",
    "        console.log(num15 * num3) \n",
    "        console.log(num15 / num3)\n",
    "\n",
    "    //Print answers when clicking submit (dom)\n",
    "        var additionAnswer = num15 + num3;\n",
    "        var subtractionAnswer = num15 - num3;\n",
    "        var multiplicationAnswer = num15 * num3;\n",
    "        var divisionAnswer = num15 / num3;\n",
    "\n",
    "        var answersDiv = document.getElementById(\"answers\");\n",
    "        answersDiv.innerHTML = `\n",
    "            <p>15 + 3 = ${additionAnswer}</p>\n",
    "            <p>15 - 3 = ${subtractionAnswer}</p>\n",
    "            <p>15 x 3 = ${multiplicationAnswer}</p>\n",
    "            <p>15 / 3 = ${divisionAnswer}</p>\n",
    "            `;      \n",
    "    }\n",
    "</script>"
   ]
  }
 ],
 "metadata": {
  "kernelspec": {
   "display_name": "Python 3",
   "language": "python",
   "name": "python3"
  },
  "language_info": {
   "codemirror_mode": {
    "name": "ipython",
    "version": 3
   },
   "file_extension": ".py",
   "mimetype": "text/x-python",
   "name": "python",
   "nbconvert_exporter": "python",
   "pygments_lexer": "ipython3",
   "version": "3.10.12"
  },
  "orig_nbformat": 4
 },
 "nbformat": 4,
 "nbformat_minor": 2
}
