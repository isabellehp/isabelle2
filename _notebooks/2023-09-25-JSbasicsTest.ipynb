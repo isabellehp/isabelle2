{
 "cells": [
  {
   "cell_type": "markdown",
   "metadata": {},
   "source": [
    "---\n",
    "layout: post\n",
    "title: Web Programming Basics Individual Project\n",
    "description: An introduction to key topics in Web Programming\n",
    "courses: { compsci: {week: 6} }\n",
    "type: hacks\n",
    "---"
   ]
  },
  {
   "cell_type": "code",
   "execution_count": 8,
   "metadata": {},
   "outputs": [
    {
     "data": {
      "text/html": [
       "\n",
       "<div id=\"Test\">\n",
       "    <h1 id=\"title\">Math Test</h1>\n",
       "    <label for=\"subtraction\">15 - 3:</label>\n",
       "    <input type=\"number\" id=\"subtracion\" name=\"subtraction\">\n",
       "\n",
       "    <label for=\"addition\">15 + 3:</label>\n",
       "    <input type=\"number\" id=\"addition\" name=\"addition\">\n",
       "\n",
       "    <label for=\"division\">15/3:</label>\n",
       "    <input type=\"number\" id=\"division\" name=\"division\">\n",
       "\n",
       "    <label for=\"multiplication\">15 x 3:</label>\n",
       "    <input type=\"number\" id=\"multiplication\" name=\"multiplication\">\n",
       "</div>\n",
       "\n",
       "<button type=\"button\" onclick=\"submitResponse()\">Submit</button>\n",
       "\n",
       "<div id=\"answers\"></div>\n",
       "\n",
       "<script>\n",
       "   function submitResponse(){\n",
       "    var num1 = 15\n",
       "    var num2 = 3\n",
       "\n",
       "    //show answers in console when clicking submit\n",
       "        console.log(num1 - num2)\n",
       "        console.log(num1 + num2)\n",
       "        console.log(num1 / num2)\n",
       "        console.log(num1 * num2) \n",
       "\n",
       "    //Print answers when clicking submit\n",
       "        var subtractionResult = num1 - num2;\n",
       "        var additionResult = num1 + num2;\n",
       "        var divisionResult = num1 / num2;\n",
       "        var multiplicationResult = num1 * num2;\n",
       "\n",
       "        var resultsDiv = document.getElementById(\"answers\");\n",
       "        resultsDiv.innerHTML = `\n",
       "            <p>15 - 3 = ${subtractionResult}</p>\n",
       "            <p>15 + 3 = ${additionResult}</p>\n",
       "            <p>15 / 3 = ${divisionResult}</p>\n",
       "            <p>15 x 3 = ${multiplicationResult}</p>\n",
       "            `;\n",
       "                \n",
       "    } \n",
       "\n",
       "    \n",
       "</script>\n"
      ],
      "text/plain": [
       "<IPython.core.display.HTML object>"
      ]
     },
     "metadata": {},
     "output_type": "display_data"
    }
   ],
   "source": [
    "%%html\n",
    "\n",
    "<div id=\"Test\">\n",
    "    <h1 id=\"title\">Math Test</h1>\n",
    "    <label for=\"subtraction\">15 - 3:</label>\n",
    "    <input type=\"number\" id=\"subtracion\" name=\"subtraction\">\n",
    "\n",
    "    <label for=\"addition\">15 + 3:</label>\n",
    "    <input type=\"number\" id=\"addition\" name=\"addition\">\n",
    "\n",
    "    <label for=\"division\">15/3:</label>\n",
    "    <input type=\"number\" id=\"division\" name=\"division\">\n",
    "\n",
    "    <label for=\"multiplication\">15 x 3:</label>\n",
    "    <input type=\"number\" id=\"multiplication\" name=\"multiplication\">\n",
    "</div>\n",
    "\n",
    "<button type=\"button\" onclick=\"submitResponse()\">Submit</button>\n",
    "\n",
    "<div id=\"answers\"></div>\n",
    "\n",
    "<script>\n",
    "   function submitResponse(){\n",
    "    var num1 = 15\n",
    "    var num2 = 3\n",
    "\n",
    "    //show answers in console when clicking submit\n",
    "        console.log(num1 - num2)\n",
    "        console.log(num1 + num2)\n",
    "        console.log(num1 / num2)\n",
    "        console.log(num1 * num2) \n",
    "\n",
    "    //Print answers when clicking submit\n",
    "        var subtractionResult = num1 - num2;\n",
    "        var additionResult = num1 + num2;\n",
    "        var divisionResult = num1 / num2;\n",
    "        var multiplicationResult = num1 * num2;\n",
    "\n",
    "        var resultsDiv = document.getElementById(\"answers\");\n",
    "        resultsDiv.innerHTML = `\n",
    "            <p>15 - 3 = ${subtractionResult}</p>\n",
    "            <p>15 + 3 = ${additionResult}</p>\n",
    "            <p>15 / 3 = ${divisionResult}</p>\n",
    "            <p>15 x 3 = ${multiplicationResult}</p>\n",
    "            `;\n",
    "                \n",
    "    } \n",
    "\n",
    "    \n",
    "</script>"
   ]
  }
 ],
 "metadata": {
  "kernelspec": {
   "display_name": "Python 3",
   "language": "python",
   "name": "python3"
  },
  "language_info": {
   "codemirror_mode": {
    "name": "ipython",
    "version": 3
   },
   "file_extension": ".py",
   "mimetype": "text/x-python",
   "name": "python",
   "nbconvert_exporter": "python",
   "pygments_lexer": "ipython3",
   "version": "3.10.12"
  },
  "orig_nbformat": 4
 },
 "nbformat": 4,
 "nbformat_minor": 2
}
