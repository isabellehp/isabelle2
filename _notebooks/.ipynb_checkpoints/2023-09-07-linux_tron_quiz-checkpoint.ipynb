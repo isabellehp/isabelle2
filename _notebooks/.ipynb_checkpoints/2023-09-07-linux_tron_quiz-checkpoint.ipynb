{
 "cells": [
  {
   "cell_type": "code",
   "execution_count": 1,
   "metadata": {},
   "outputs": [
    {
     "name": "stdout",
     "output_type": "stream",
     "text": [
      "_____._.______  ._______  .______       ._______  .____     .___ .______ \n",
      "\\__ _:|: __   \\ : .___  \\ :      \\      : .___  \\ |    |___ : __|\\____  |\n",
      "  |  :||  \\____|| :   |  ||       |     | :   |  ||    |   || : |/  ____|\n",
      "  |   ||   :  \\ |     :  ||   |   |     |     :  ||    :   ||   |\\      |\n",
      "  |   ||   |___\\ \\_. ___/ |___|   |      \\_____. :|        ||   | \\__:__|\n",
      "  |___||___|       :/         |___|            :/ |. _____/ |___|    :   \n",
      "                   :                           :   :/                •   \n",
      "                                                   :                   \n",
      "To make the process of creating more players less tedious, the tron game makes use of a ____, which acts as a template that can be referenced over and over again.\n",
      "That's incorrect :(\n",
      "The tron collision logic is a very crucial part of the game, it makes use of cells and detects if the cell is a 'playable cell.' If it is not, then we will know that the player has died. The tron game uses a collision _____, something that can be referenced repeatedly and every time the ____ returns a specific result.\n",
      "That's incorrect :(\n",
      "Tron is a classic arcade game. It is a source of nostalgia for many, when was it released?\n",
      "That's incorrect :(\n"
     ]
    }
   ],
   "source": [
    "%%script bash\n",
    "echo \"_____._.______  ._______  .______       ._______  .____     .___ .______ \"\n",
    "echo \"\\__ _:|: __   \\ : .___  \\ :      \\      : .___  \\ |    |___ : __|\\____  |\"\n",
    "echo \"  |  :||  \\____|| :   |  ||       |     | :   |  ||    |   || : |/  ____|\"\n",
    "echo \"  |   ||   :  \\ |     :  ||   |   |     |     :  ||    :   ||   |\\      |\"\n",
    "echo \"  |   ||   |___\\ \\_. ___/ |___|   |      \\_____. :|        ||   | \\__:__|\"\n",
    "echo \"  |___||___|       :/         |___|            :/ |. _____/ |___|    :   \"\n",
    "echo \"                   :                           :   :/                •   \"\n",
    "echo \"                                                   :                   \"\n",
    "\n",
    "\n",
    "score=0\n",
    "numQuestions=3\n",
    "#Declares the type of dictionary\n",
    "declare -A questions\n",
    "\n",
    "\n",
    "#Dictionary stores questions and answers to be referenced later\n",
    "questions=(\n",
    "    [\"To make the process of creating more players less tedious, the tron game makes use of a ____, which acts as a template that can be referenced over and over again.\"]=\"class\"\n",
    "    [\"Tron is a classic arcade game. It is a source of nostalgia for many, when was it released?\"]=\"1987\"\n",
    "    [\"The tron collision logic is a very crucial part of the game, it makes use of cells and detects if the cell is a 'playable cell.' If it is not, then we will know that the player has died. The tron game uses a collision _____, something that can be referenced repeatedly and every time the ____ returns a specific result.\"]=\"function\"\n",
    ")\n",
    "\n",
    "\n",
    "#Iterates through the questions and checks the questions with their respective dictionary meaning\n",
    "for question in \"${!questions[@]}\"\n",
    "    do\n",
    "    echo \"$question\"\n",
    "    read theInput\n",
    "   \n",
    "    if [ \"$theInput\" = \"${questions[$question]}\" ]\n",
    "    then\n",
    "        echo \"$theInput is Correct!\"\n",
    "        ((score+=1))\n",
    "    else\n",
    "        echo \"That's incorrect :(\"\n",
    "    fi\n",
    "done\n",
    "\n",
    "\n",
    "echo \"You got: $score out of $numQuestions\"\n",
    "\n",
    "\n",
    "if [ \"$score\" -gt 2 ]\n",
    "then\n",
    "    echo \"Wow you really know your stuff!\"\n",
    "    echo \"Achievement unlocked: Tron and coding genius\"\n",
    "    echo sed -i '12i\\#The Tron and Coding Genius!' /home/matthew/vscode/LabNotebook/_posts/2023-9-5-tron.md\n",
    "    #Staging github changes\n",
    "    git add.\n",
    "    git commit -m \"Tron King\"\n",
    "    git push origin main\n",
    "fi"
   ]
  },
  {
   "cell_type": "code",
   "execution_count": null,
   "metadata": {},
   "outputs": [],
   "source": []
  }
 ],
 "metadata": {
  "kernelspec": {
   "display_name": "Python 3 (ipykernel)",
   "language": "python",
   "name": "python3"
  },
  "language_info": {
   "codemirror_mode": {
    "name": "ipython",
    "version": 3
   },
   "file_extension": ".py",
   "mimetype": "text/x-python",
   "name": "python",
   "nbconvert_exporter": "python",
   "pygments_lexer": "ipython3",
   "version": "3.10.12"
  }
 },
 "nbformat": 4,
 "nbformat_minor": 2
}
